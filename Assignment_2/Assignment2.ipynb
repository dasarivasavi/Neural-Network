{
  "nbformat": 4,
  "nbformat_minor": 0,
  "metadata": {
    "colab": {
      "provenance": []
    },
    "kernelspec": {
      "name": "python3",
      "display_name": "Python 3"
    },
    "language_info": {
      "name": "python"
    }
  },
  "cells": [
    {
      "cell_type": "code",
      "execution_count": 1,
      "metadata": {
        "colab": {
          "base_uri": "https://localhost:8080/"
        },
        "id": "PE-ve8EMjCri",
        "outputId": "1e82078f-f84c-4f5e-d750-de23e9255365"
      },
      "outputs": [
        {
          "output_type": "stream",
          "name": "stdout",
          "text": [
            "Enter the first name: Vasavi\n",
            "Enter the last name: Dasari\n",
            "Full name is: Vasavi Dasari\n",
            "Vsv aai\n"
          ]
        }
      ],
      "source": [
        "First_name = input(\"Enter the first name: \")\n",
        "Last_name = input(\"Enter the last name: \")\n",
        "fullName = First_name + \" \" + Last_name\n",
        "\n",
        "def Full_name(fn,ln):\n",
        "    print(\"Full name is: \" + fn +\" \"+ ln)\n",
        "\n",
        "Full_name(First_name, Last_name)\n",
        "\n",
        "def string_alternative(str):\n",
        "    print(str[::2])\n",
        "\n",
        "string_alternative(fullName)"
      ]
    },
    {
      "cell_type": "code",
      "source": [
        "word = open(\"input.txt\",\"w\")\n",
        "word.write(\"Python Course\\n\")\n",
        "word.write(\"Deep learning course\\n\")\n",
        "word.close()\n",
        "word= open(\"input.txt\",\"r\")\n",
        "print(word.read())"
      ],
      "metadata": {
        "colab": {
          "base_uri": "https://localhost:8080/"
        },
        "id": "oTFc9luIl8SU",
        "outputId": "260c8078-b231-48ab-e22e-34855fe75fb4"
      },
      "execution_count": 7,
      "outputs": [
        {
          "output_type": "stream",
          "name": "stdout",
          "text": [
            "Python Course\n",
            "Deep learning course\n",
            "\n"
          ]
        }
      ]
    },
    {
      "cell_type": "code",
      "source": [
        "from collections import Counter\n",
        "\n",
        "# Reading input from input.txt\n",
        "with open('input.txt', 'r') as file:\n",
        "    lines = file.readlines()\n",
        "wordcountperline = []\n",
        "for line in lines:\n",
        "    words = line.strip().split()\n",
        "    wordcountperline.append(Counter(words))\n",
        "for line in lines:\n",
        "    print(line.strip())\n",
        "print(\"Word_Count:\")\n",
        "for word, count in Counter(word for wc in wordcountperline for word in wc).items():\n",
        "    print(f\"{word}: {count}\")\n",
        "with open('output.txt', 'w') as output_file:\n",
        "    for line in lines:\n",
        "        output_file.write(line)\n",
        "    output_file.write(\"Word_Count:\\n\")\n",
        "    for word, count in Counter(word for wc in wordcountperline for word in wc).items():\n",
        "        output_file.write(f\"{word}: {count}\\n\")"
      ],
      "metadata": {
        "colab": {
          "base_uri": "https://localhost:8080/"
        },
        "id": "1PnFScNdl8c7",
        "outputId": "24a6347e-2144-4a30-a18b-507a0540236e"
      },
      "execution_count": 14,
      "outputs": [
        {
          "output_type": "stream",
          "name": "stdout",
          "text": [
            "Python Course\n",
            "Deep learning course\n",
            "Word_Count:\n",
            "Python: 1\n",
            "Course: 1\n",
            "Deep: 1\n",
            "learning: 1\n",
            "course: 1\n"
          ]
        }
      ]
    },
    {
      "cell_type": "code",
      "source": [
        "height = []\n",
        "inches = int(input(\"Enter size of list: \"))\n",
        "for items in range(inches):\n",
        "    height.append(float(input()))\n",
        "height_List = [2.54 * item for item in height]\n",
        "print(height_List)"
      ],
      "metadata": {
        "colab": {
          "base_uri": "https://localhost:8080/"
        },
        "id": "wfidTT4aoYDF",
        "outputId": "5bb96277-296b-435b-b7bc-2defc4aff8a7"
      },
      "execution_count": 13,
      "outputs": [
        {
          "output_type": "stream",
          "name": "stdout",
          "text": [
            "Enter size of list: 4\n",
            "150\n",
            "155\n",
            "145\n",
            "148\n",
            "[381.0, 393.7, 368.3, 375.92]\n"
          ]
        }
      ]
    }
  ]
}