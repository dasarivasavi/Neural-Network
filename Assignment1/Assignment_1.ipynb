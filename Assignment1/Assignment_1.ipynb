{
  "nbformat": 4,
  "nbformat_minor": 0,
  "metadata": {
    "colab": {
      "provenance": [],
      "toc_visible": true
    },
    "kernelspec": {
      "name": "python3",
      "display_name": "Python 3"
    },
    "language_info": {
      "name": "python"
    }
  },
  "cells": [
    {
      "cell_type": "code",
      "execution_count": 15,
      "metadata": {
        "colab": {
          "base_uri": "https://localhost:8080/"
        },
        "id": "UrrsL6eMPVuS",
        "outputId": "36994261-9ff9-4ea5-8265-71dc8b2a4abc"
      },
      "outputs": [
        {
          "output_type": "stream",
          "name": "stdout",
          "text": [
            "Enter the string:Python\n",
            "Sample output:\n",
            "noht\n"
          ]
        }
      ],
      "source": [
        "# Input the string \"Python\"\n",
        "inp = list(input(\"Enter the string:\"))\n",
        "\n",
        "# Deleting 2 characters\n",
        "if len(inp) >= 2:\n",
        "    del inp[:2]\n",
        "\n",
        "# reverse it\n",
        "resultant_string = \"\".join(inp[::-1])\n",
        "\n",
        "# Print reversed string\n",
        "print(\"Sample output:\")\n",
        "print(resultant_string)\n",
        "\n"
      ]
    },
    {
      "cell_type": "code",
      "source": [
        "num1 = int(input(\"Enter the first Number:\"))\n",
        "num2 = int(input(\"Enter the second number:\"))\n",
        "add_result = num1 + num2\n",
        "sub_result = num1 - num2\n",
        "mul_result = num1 * num2\n",
        "div_result = num1 / num2\n",
        "\n",
        "# Print the results of arithmetic operations\n",
        "print(\"Arithmetic Operations:\")\n",
        "print(f\"Addition: {add_result}\")\n",
        "print(f\"Subtraction: {sub_result}\")\n",
        "print(f\"Multiplication: {mul_result}\")\n",
        "print(f\"Division: {div_result}\")"
      ],
      "metadata": {
        "colab": {
          "base_uri": "https://localhost:8080/"
        },
        "id": "gdSnw-2wPZaK",
        "outputId": "110920b3-964f-4c77-a959-129ba4ab191c"
      },
      "execution_count": 16,
      "outputs": [
        {
          "output_type": "stream",
          "name": "stdout",
          "text": [
            "Enter the first Number:4\n",
            "Enter the second number:4\n",
            "Arithmetic Operations:\n",
            "Addition: 8\n",
            "Subtraction: 0\n",
            "Multiplication: 16\n",
            "Division: 1.0\n"
          ]
        }
      ]
    },
    {
      "cell_type": "code",
      "source": [
        "inp_sentence = input(\"Enter a sentence: \")\n",
        "\n",
        "# Replacing 'python' with 'pythons'\n",
        "op_sentence = inp_sentence.replace('python', 'pythons')\n",
        "\n",
        "# Print the sentence\n",
        "print(\"Sample output:\")\n",
        "print(op_sentence)"
      ],
      "metadata": {
        "colab": {
          "base_uri": "https://localhost:8080/"
        },
        "id": "NnQ4huBXUB9E",
        "outputId": "89712d83-424b-474b-f60f-3da3801d5a19"
      },
      "execution_count": 17,
      "outputs": [
        {
          "output_type": "stream",
          "name": "stdout",
          "text": [
            "Enter a sentence: python\n",
            "Sample output:\n",
            "pythons\n"
          ]
        }
      ]
    },
    {
      "cell_type": "code",
      "source": [
        "cls_score = float(input(\"Enter class score: \"))\n",
        "\n",
        "# Determining the letter grade\n",
        "if 90 <= cls_score <= 100:\n",
        "    grade = 'A'\n",
        "elif 80 <= cls_score < 90:\n",
        "    grade = 'B'\n",
        "elif 70 <= cls_score < 80:\n",
        "    grade = 'C'\n",
        "elif 60 <= cls_score < 70:\n",
        "    grade = 'D'\n",
        "else:\n",
        "    grade = 'F'\n",
        "\n",
        "# Print the letter grade\n",
        "print(f\"The grade {cls_score} is: {grade}\")"
      ],
      "metadata": {
        "colab": {
          "base_uri": "https://localhost:8080/"
        },
        "id": "IN0ZgmEKUYdk",
        "outputId": "ae8d50ef-818a-49c4-82e4-4bca79c149a1"
      },
      "execution_count": 18,
      "outputs": [
        {
          "output_type": "stream",
          "name": "stdout",
          "text": [
            "Enter class score: 80\n",
            "The grade 80.0 is: B\n"
          ]
        }
      ]
    }
  ]
}
